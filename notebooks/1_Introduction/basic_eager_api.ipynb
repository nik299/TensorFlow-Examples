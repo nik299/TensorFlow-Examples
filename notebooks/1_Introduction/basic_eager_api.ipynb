{
  "nbformat": 4,
  "nbformat_minor": 0,
  "metadata": {
    "colab": {
      "name": "basic_eager_api.ipynb",
      "version": "0.3.2",
      "provenance": []
    },
    "kernelspec": {
      "name": "python3",
      "display_name": "Python 3"
    }
  },
  "cells": [
    {
      "metadata": {
        "id": "kNGvQlwv_HEk",
        "colab_type": "text"
      },
      "cell_type": "markdown",
      "source": [
        "# Basic introduction to TensorFlow's Eager API\n",
        "\n",
        "A simple introduction to get started with TensorFlow's Eager API.\n",
        "\n",
        "- Author: Aymeric Damien\n",
        "- Project: https://github.com/aymericdamien/TensorFlow-Examples/"
      ]
    },
    {
      "metadata": {
        "id": "itnnzbGX_HEn",
        "colab_type": "text"
      },
      "cell_type": "markdown",
      "source": [
        "### What is TensorFlow's Eager API ?\n",
        "\n",
        "*Eager execution is an imperative, define-by-run interface where operations are\n",
        "executed immediately as they are called from Python. This makes it easier to\n",
        "get started with TensorFlow, and can make research and development more\n",
        "intuitive. A vast majority of the TensorFlow API remains the same whether eager\n",
        "execution is enabled or not. As a result, the exact same code that constructs\n",
        "TensorFlow graphs (e.g. using the layers API) can be executed imperatively\n",
        "by using eager execution. Conversely, most models written with Eager enabled\n",
        "can be converted to a graph that can be further optimized and/or extracted\n",
        "for deployment in production without changing code. - Rajat Monga*\n",
        "\n",
        "More info: https://research.googleblog.com/2017/10/eager-execution-imperative-define-by.html"
      ]
    },
    {
      "metadata": {
        "id": "P_vb3U3i_HEo",
        "colab_type": "code",
        "colab": {}
      },
      "cell_type": "code",
      "source": [
        "from __future__ import absolute_import, division, print_function\n",
        "\n",
        "import numpy as np\n",
        "import tensorflow as tf"
      ],
      "execution_count": 0,
      "outputs": []
    },
    {
      "metadata": {
        "id": "rNO8uWzW_HEs",
        "colab_type": "code",
        "colab": {
          "base_uri": "https://localhost:8080/",
          "height": 153
        },
        "outputId": "96cf4ff2-c47d-4140-b12d-932d4a4f5b4f"
      },
      "cell_type": "code",
      "source": [
        "# Set Eager API\n",
        "print(\"Setting Eager mode...\")\n",
        "tf.enable_eager_execution()\n",
        "tfe = tf.contrib.eager"
      ],
      "execution_count": 2,
      "outputs": [
        {
          "output_type": "stream",
          "text": [
            "Setting Eager mode...\n",
            "\n",
            "WARNING: The TensorFlow contrib module will not be included in TensorFlow 2.0.\n",
            "For more information, please see:\n",
            "  * https://github.com/tensorflow/community/blob/master/rfcs/20180907-contrib-sunset.md\n",
            "  * https://github.com/tensorflow/addons\n",
            "If you depend on functionality not listed there, please file an issue.\n",
            "\n"
          ],
          "name": "stdout"
        }
      ]
    },
    {
      "metadata": {
        "id": "0NXGUOTu_HEy",
        "colab_type": "code",
        "colab": {
          "base_uri": "https://localhost:8080/",
          "height": 68
        },
        "outputId": "85bb5a66-c100-48d3-de80-85c3abf2ac19"
      },
      "cell_type": "code",
      "source": [
        "# Define constant tensors\n",
        "print(\"Define constant tensors\")\n",
        "a = tf.constant(2)\n",
        "print(\"a = {}\".format(eval('a')))\n",
        "b = tf.constant(3)\n",
        "print(\"b = {}\".format(eval('b')))"
      ],
      "execution_count": 13,
      "outputs": [
        {
          "output_type": "stream",
          "text": [
            "Define constant tensors\n",
            "a = 2\n",
            "b = 3\n"
          ],
          "name": "stdout"
        }
      ]
    },
    {
      "metadata": {
        "id": "f2p3mWA9_HE1",
        "colab_type": "code",
        "colab": {
          "base_uri": "https://localhost:8080/",
          "height": 68
        },
        "outputId": "8a8a4b78-c007-40f3-e489-1a5f6157dd9c"
      },
      "cell_type": "code",
      "source": [
        "# Run the operation without the need for tf.Session\n",
        "print(\"Running operations, without tf.Session\")\n",
        "c = a + b\n",
        "print(\"a + b = {}\".format(eval('c')))\n",
        "d = a * b\n",
        "print(\"a * b = {}\".format(eval('d')))"
      ],
      "execution_count": 16,
      "outputs": [
        {
          "output_type": "stream",
          "text": [
            "Running operations, without tf.Session\n",
            "a + b = 5\n",
            "a * b = 6\n"
          ],
          "name": "stdout"
        }
      ]
    },
    {
      "metadata": {
        "id": "7HjpquKp_HE5",
        "colab_type": "code",
        "colab": {
          "base_uri": "https://localhost:8080/",
          "height": 136
        },
        "outputId": "e4f5e6e3-8d37-4baf-cb59-afe73f1b456d"
      },
      "cell_type": "code",
      "source": [
        "# Full compatibility with Numpy\n",
        "print(\"Mixing operations with Tensors and Numpy Arrays\")\n",
        "\n",
        "# Define constant tensors\n",
        "a = tf.constant([[2., 1.],\n",
        "                 [1., 0.]], dtype=tf.float32)\n",
        "print(\"Tensor:\\n a = {}\".format(eval('a')))\n",
        "b = np.array([[3., 0.],\n",
        "              [5., 1.]], dtype=np.float32)\n",
        "print(\"NumpyArray:\\n b = {}\".format(eval('b')))"
      ],
      "execution_count": 18,
      "outputs": [
        {
          "output_type": "stream",
          "text": [
            "Mixing operations with Tensors and Numpy Arrays\n",
            "Tensor:\n",
            " a = [[2. 1.]\n",
            " [1. 0.]]\n",
            "NumpyArray:\n",
            " b = [[3. 0.]\n",
            " [5. 1.]]\n"
          ],
          "name": "stdout"
        }
      ]
    },
    {
      "metadata": {
        "id": "esVqERCa_HE9",
        "colab_type": "code",
        "colab": {
          "base_uri": "https://localhost:8080/",
          "height": 102
        },
        "outputId": "9663c2aa-c309-4b22-d85d-67dbac1687b5"
      },
      "cell_type": "code",
      "source": [
        "# Run the operation without the need for tf.Session\n",
        "print(\"Running operations, without tf.Session\")\n",
        "\n",
        "c = a + b\n",
        "print(\"a + b = {}\".format(eval('c')))\n",
        "\n",
        "d = tf.matmul(a, b)\n",
        "print(\"a * b = {}\".format(eval('d')))"
      ],
      "execution_count": 19,
      "outputs": [
        {
          "output_type": "stream",
          "text": [
            "Running operations, without tf.Session\n",
            "a + b = [[5. 1.]\n",
            " [6. 1.]]\n",
            "a * b = [[11.  1.]\n",
            " [ 3.  0.]]\n"
          ],
          "name": "stdout"
        }
      ]
    },
    {
      "metadata": {
        "id": "AIb0WFQI_HFA",
        "colab_type": "code",
        "colab": {
          "base_uri": "https://localhost:8080/",
          "height": 102
        },
        "outputId": "1295f9ff-b6bb-42fb-eae6-8e3e3e1a8725"
      },
      "cell_type": "code",
      "source": [
        "print(\"Iterate through Tensor 'a':\")\n",
        "for i in range(eval('a').shape[0]):\n",
        "    for j in range(eval('a').shape[1]):\n",
        "        print(eval('a')[i][j])"
      ],
      "execution_count": 21,
      "outputs": [
        {
          "output_type": "stream",
          "text": [
            "Iterate through Tensor 'a':\n",
            "tf.Tensor(2.0, shape=(), dtype=float32)\n",
            "tf.Tensor(1.0, shape=(), dtype=float32)\n",
            "tf.Tensor(1.0, shape=(), dtype=float32)\n",
            "tf.Tensor(0.0, shape=(), dtype=float32)\n"
          ],
          "name": "stdout"
        }
      ]
    },
    {
      "metadata": {
        "id": "e1ZoAd5A_nh_",
        "colab_type": "code",
        "colab": {}
      },
      "cell_type": "code",
      "source": [
        ""
      ],
      "execution_count": 0,
      "outputs": []
    }
  ]
}